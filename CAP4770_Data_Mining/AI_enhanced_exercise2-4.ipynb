{
  "nbformat": 4,
  "nbformat_minor": 0,
  "metadata": {
    "colab": {
      "provenance": []
    },
    "kernelspec": {
      "name": "python3",
      "display_name": "Python 3"
    },
    "language_info": {
      "name": "python"
    }
  },
  "cells": [
    {
      "cell_type": "code",
      "execution_count": null,
      "metadata": {
        "id": "weZN2LoCrAZA"
      },
      "outputs": [],
      "source": [
        "import pandas as pd\n",
        "data = pd.read_csv('online_shoppers_intention.csv')\n"
      ]
    },
    {
      "cell_type": "code",
      "source": [
        "from sklearn.model_selection import train_test_split\n",
        "X = data.drop('Revenue', axis=1)\n",
        "Y = data['Revenue']\n",
        "X_train, X_test, Y_train, Y_test = train_test_split(X, Y, test_size=0.3, random_state=42)"
      ],
      "metadata": {
        "id": "MsKTMl_h1Kca"
      },
      "execution_count": null,
      "outputs": []
    },
    {
      "cell_type": "code",
      "source": [
        "from sklearn.preprocessing import LabelEncoder\n",
        "# Make a copy to avoid modifying the orighinal\n",
        "data_encoded = data.copy()\n",
        "# Encode all object columns\n",
        "label_encoders = {}\n",
        "for col in data_encoded.select_dtypes(include= ['object', bool]).columns:\n",
        "  le = LabelEncoder()\n",
        "  data_encoded[col] = le.fit_transform(data_encoded[col])\n",
        "  label_encoders[col] = le"
      ],
      "metadata": {
        "id": "RJ17DU3g4gb_"
      },
      "execution_count": null,
      "outputs": []
    },
    {
      "cell_type": "code",
      "source": [
        "X = data_encoded.drop('Revenue', axis= 1)\n",
        "Y = data_encoded['Revenue']\n",
        "X_train, X_test, Y_train, Y_test = train_test_split(X, Y, test_size=0.3, random_state=42)"
      ],
      "metadata": {
        "id": "fW0qyRHp84hG"
      },
      "execution_count": null,
      "outputs": []
    },
    {
      "cell_type": "code",
      "source": [
        "from sklearn.tree import DecisionTreeClassifier\n",
        "from sklearn.metrics import accuracy_score, confusion_matrix, classification_report\n",
        "\n",
        "# Train model\n",
        "dt = DecisionTreeClassifier(random_state=42)\n",
        "dt.fit(X_train, Y_train)\n",
        "\n",
        "# Predict\n",
        "Y_pred = dt.predict(X_test)\n",
        "\n",
        "# Evaluate\n",
        "print(\"Accuracy:\", accuracy_score(Y_test, Y_pred))\n",
        "print(\"\\nConfusion Matrix:\\n\", confusion_matrix(Y_test, Y_pred))\n",
        "print(\"\\nClassification Report:\\n\", classification_report(Y_test, Y_pred))\n"
      ],
      "metadata": {
        "colab": {
          "base_uri": "https://localhost:8080/"
        },
        "id": "MD2B62-u95ED",
        "outputId": "a48cc7ec-ab7a-4b87-bf7b-cc8be13f12ce"
      },
      "execution_count": null,
      "outputs": [
        {
          "output_type": "stream",
          "name": "stdout",
          "text": [
            "Accuracy: 0.8510408218437415\n",
            "\n",
            "Confusion Matrix:\n",
            " [[2837  287]\n",
            " [ 264  311]]\n",
            "\n",
            "Classification Report:\n",
            "               precision    recall  f1-score   support\n",
            "\n",
            "           0       0.91      0.91      0.91      3124\n",
            "           1       0.52      0.54      0.53       575\n",
            "\n",
            "    accuracy                           0.85      3699\n",
            "   macro avg       0.72      0.72      0.72      3699\n",
            "weighted avg       0.85      0.85      0.85      3699\n",
            "\n"
          ]
        }
      ]
    },
    {
      "cell_type": "code",
      "source": [
        "from sklearn.neighbors import KNeighborsClassifier\n",
        "from sklearn.metrics import accuracy_score, confusion_matrix, classification_report\n"
      ],
      "metadata": {
        "id": "FiKysamQAcFU"
      },
      "execution_count": null,
      "outputs": []
    },
    {
      "cell_type": "code",
      "source": [
        "# Create the model\n",
        "knn = KNeighborsClassifier(n_neighbors=5)\n",
        "\n",
        "# Train the model\n",
        "knn.fit(X_train, Y_train)\n",
        "\n",
        "# Predict\n",
        "Y_pred_knn = knn.predict(X_test)\n",
        "\n",
        "# Evaluate\n",
        "print(\"k-NN Accuracy:\", accuracy_score(Y_test, Y_pred_knn))\n",
        "print(\"Confusion Matrix:\\n\", confusion_matrix(Y_test, Y_pred_knn))\n",
        "print(\"Classification Report:\\n\", classification_report(Y_test, Y_pred_knn))\n"
      ],
      "metadata": {
        "colab": {
          "base_uri": "https://localhost:8080/"
        },
        "id": "JtZJlHSaAd4q",
        "outputId": "735b8f24-8aff-4aeb-8af0-8e20d87dbf43"
      },
      "execution_count": null,
      "outputs": [
        {
          "output_type": "stream",
          "name": "stdout",
          "text": [
            "k-NN Accuracy: 0.8537442552041092\n",
            "Confusion Matrix:\n",
            " [[3003  121]\n",
            " [ 420  155]]\n",
            "Classification Report:\n",
            "               precision    recall  f1-score   support\n",
            "\n",
            "           0       0.88      0.96      0.92      3124\n",
            "           1       0.56      0.27      0.36       575\n",
            "\n",
            "    accuracy                           0.85      3699\n",
            "   macro avg       0.72      0.62      0.64      3699\n",
            "weighted avg       0.83      0.85      0.83      3699\n",
            "\n"
          ]
        }
      ]
    },
    {
      "cell_type": "code",
      "source": [
        "from sklearn.naive_bayes import GaussianNB\n"
      ],
      "metadata": {
        "id": "-774k9UFAmY7"
      },
      "execution_count": null,
      "outputs": []
    },
    {
      "cell_type": "code",
      "source": [
        "nb = GaussianNB()\n",
        "nb.fit(X_train, Y_train)\n",
        "\n",
        "Y_pred_nb = nb.predict(X_test)\n",
        "\n",
        "# Evaluate\n",
        "print(\"Naive Bayes Accuracy:\", accuracy_score(Y_test, Y_pred_nb))\n",
        "print(\"Confusion Matrix:\\n\", confusion_matrix(Y_test, Y_pred_nb))\n",
        "print(\"Classification Report:\\n\", classification_report(Y_test, Y_pred_nb))\n"
      ],
      "metadata": {
        "colab": {
          "base_uri": "https://localhost:8080/"
        },
        "id": "xpmzRG_7Aq3Y",
        "outputId": "c5a944f1-26db-4cf1-d63e-cb7ad0f61fa8"
      },
      "execution_count": null,
      "outputs": [
        {
          "output_type": "stream",
          "name": "stdout",
          "text": [
            "Naive Bayes Accuracy: 0.849418761827521\n",
            "Confusion Matrix:\n",
            " [[2835  289]\n",
            " [ 268  307]]\n",
            "Classification Report:\n",
            "               precision    recall  f1-score   support\n",
            "\n",
            "           0       0.91      0.91      0.91      3124\n",
            "           1       0.52      0.53      0.52       575\n",
            "\n",
            "    accuracy                           0.85      3699\n",
            "   macro avg       0.71      0.72      0.72      3699\n",
            "weighted avg       0.85      0.85      0.85      3699\n",
            "\n"
          ]
        }
      ]
    },
    {
      "cell_type": "code",
      "source": [
        "from sklearn.linear_model import LogisticRegression"
      ],
      "metadata": {
        "id": "cLmNZlMoH9b4"
      },
      "execution_count": null,
      "outputs": []
    },
    {
      "cell_type": "code",
      "source": [
        "# Train Logistic Regression Model\n",
        "lr = LogisticRegression(max_iter=1000, random_state=42)\n",
        "lr.fit(X_train, Y_train)\n",
        "\n",
        "# Predict\n",
        "Y_pred_lr = lr.predict(X_test)\n",
        "\n",
        "# Evaluate\n",
        "print(\"\\nLogistic Regression Accuracy:\", accuracy_score(Y_test, Y_pred_lr))\n",
        "print(\"Confusion Matrix:\\n\", confusion_matrix(Y_test, Y_pred_lr))\n",
        "print(\"Classification Report:\\n\", classification_report(Y_test, Y_pred_lr))\n"
      ],
      "metadata": {
        "colab": {
          "base_uri": "https://localhost:8080/"
        },
        "id": "-Ir8qaxFIOxt",
        "outputId": "27c2d5f1-ae78-4fa3-cd2a-be0df2a7ee8f"
      },
      "execution_count": null,
      "outputs": [
        {
          "output_type": "stream",
          "name": "stdout",
          "text": [
            "\n",
            "Logistic Regression Accuracy: 0.8794268721276021\n",
            "Confusion Matrix:\n",
            " [[3052   72]\n",
            " [ 374  201]]\n",
            "Classification Report:\n",
            "               precision    recall  f1-score   support\n",
            "\n",
            "           0       0.89      0.98      0.93      3124\n",
            "           1       0.74      0.35      0.47       575\n",
            "\n",
            "    accuracy                           0.88      3699\n",
            "   macro avg       0.81      0.66      0.70      3699\n",
            "weighted avg       0.87      0.88      0.86      3699\n",
            "\n"
          ]
        },
        {
          "output_type": "stream",
          "name": "stderr",
          "text": [
            "/usr/local/lib/python3.11/dist-packages/sklearn/linear_model/_logistic.py:465: ConvergenceWarning: lbfgs failed to converge (status=1):\n",
            "STOP: TOTAL NO. OF ITERATIONS REACHED LIMIT.\n",
            "\n",
            "Increase the number of iterations (max_iter) or scale the data as shown in:\n",
            "    https://scikit-learn.org/stable/modules/preprocessing.html\n",
            "Please also refer to the documentation for alternative solver options:\n",
            "    https://scikit-learn.org/stable/modules/linear_model.html#logistic-regression\n",
            "  n_iter_i = _check_optimize_result(\n"
          ]
        }
      ]
    },
    {
      "cell_type": "markdown",
      "source": [],
      "metadata": {
        "id": "5s0Uw-NrIfSC"
      }
    },
    {
      "cell_type": "markdown",
      "source": [
        "## AI-Guided Exploration of Retail Classification Models\n",
        "\n",
        "In this notebook, I explored the Online Shoppers Purchasing Intention Dataset using GPT-guided instructions. The tasks included:\n",
        "\n",
        "- Preprocessing and encoding retail browsing data\n",
        "- Splitting the data into training and testing sets\n",
        "- Training a Decision Tree Classifier to predict whether a user will generate revenue\n",
        "- Evaluating model performance using accuracy, confusion matrix, and classification report\n",
        "\n",
        "The purpose of this exercise was to apply machine learning to real-world retail e-commerce data and interpret the model's performance.\n",
        "## Grade Booster: Logistic Regression\n",
        "\n",
        "As part of the grade booster opportunity, I trained a Logistic Regression model on the same dataset used for the Decision Tree. Logistic Regression is a linear model that estimates the probability that an instance belongs to a particular class.\n",
        "\n",
        "### Configuration:\n",
        "- Model: `LogisticRegression`\n",
        "- Parameters: `max_iter=1000`, `random_state=42`\n",
        "\n",
        "### Comparison:\n",
        "- Accuracy was [insert the score shown above].\n",
        "- Unlike the Decision Tree, Logistic Regression is less prone to overfitting and performs well on linearly separable data.\n",
        "- Based on the results, Logistic Regression showed [similar/better/worse] performance compared to the Decision Tree.\n",
        "\n"
      ],
      "metadata": {
        "id": "RNKuWiR0A3VD"
      }
    }
  ]
}