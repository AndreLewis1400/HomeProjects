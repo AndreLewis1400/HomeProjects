{
 "cells": [
  {
   "cell_type": "code",
   "execution_count": 1,
   "id": "4203216d-a0dd-446f-afbd-44bb93e9d2de",
   "metadata": {
    "execution": {
     "iopub.execute_input": "2023-07-26T13:25:04.921335Z",
     "iopub.status.busy": "2023-07-26T13:25:04.921080Z",
     "iopub.status.idle": "2023-07-26T13:25:05.256243Z",
     "shell.execute_reply": "2023-07-26T13:25:05.255915Z"
    }
   },
   "outputs": [],
   "source": [
    "# Load the pandas package\n",
    "import pandas as pd"
   ]
  },
  {
   "cell_type": "code",
   "execution_count": 2,
   "id": "8a263853-18ca-420d-bfec-7a7a53fa39d5",
   "metadata": {
    "execution": {
     "iopub.execute_input": "2023-07-26T13:25:05.262575Z",
     "iopub.status.busy": "2023-07-26T13:25:05.261352Z",
     "iopub.status.idle": "2023-07-26T13:25:05.267277Z",
     "shell.execute_reply": "2023-07-26T13:25:05.266059Z"
    }
   },
   "outputs": [],
   "source": [
    "# Load the country.csv data\n",
    "country = pd.read_csv('country_subset.csv')"
   ]
  },
  {
   "cell_type": "code",
   "execution_count": 3,
   "id": "d5ba3387-a6cd-4637-b25a-246a3696fc92",
   "metadata": {
    "execution": {
     "iopub.execute_input": "2023-07-26T13:25:05.268836Z",
     "iopub.status.busy": "2023-07-26T13:25:05.268753Z",
     "iopub.status.idle": "2023-07-26T13:25:05.274077Z",
     "shell.execute_reply": "2023-07-26T13:25:05.273800Z"
    }
   },
   "outputs": [
    {
     "data": {
      "text/html": [
       "<div>\n",
       "<style scoped>\n",
       "    .dataframe tbody tr th:only-of-type {\n",
       "        vertical-align: middle;\n",
       "    }\n",
       "\n",
       "    .dataframe tbody tr th {\n",
       "        vertical-align: top;\n",
       "    }\n",
       "\n",
       "    .dataframe thead th {\n",
       "        text-align: right;\n",
       "    }\n",
       "</style>\n",
       "<table border=\"1\" class=\"dataframe\">\n",
       "  <thead>\n",
       "    <tr style=\"text-align: right;\">\n",
       "      <th></th>\n",
       "      <th>Name</th>\n",
       "      <th>Continent</th>\n",
       "      <th>Population</th>\n",
       "    </tr>\n",
       "  </thead>\n",
       "  <tbody>\n",
       "    <tr>\n",
       "      <th>0</th>\n",
       "      <td>Afghanistan</td>\n",
       "      <td>Asia</td>\n",
       "      <td>22720000</td>\n",
       "    </tr>\n",
       "    <tr>\n",
       "      <th>1</th>\n",
       "      <td>Albania</td>\n",
       "      <td>Europe</td>\n",
       "      <td>3401200</td>\n",
       "    </tr>\n",
       "    <tr>\n",
       "      <th>2</th>\n",
       "      <td>Algeria</td>\n",
       "      <td>Africa</td>\n",
       "      <td>31471000</td>\n",
       "    </tr>\n",
       "    <tr>\n",
       "      <th>3</th>\n",
       "      <td>American Samoa</td>\n",
       "      <td>Oceania</td>\n",
       "      <td>68000</td>\n",
       "    </tr>\n",
       "    <tr>\n",
       "      <th>4</th>\n",
       "      <td>Andorra</td>\n",
       "      <td>Europe</td>\n",
       "      <td>78000</td>\n",
       "    </tr>\n",
       "    <tr>\n",
       "      <th>...</th>\n",
       "      <td>...</td>\n",
       "      <td>...</td>\n",
       "      <td>...</td>\n",
       "    </tr>\n",
       "    <tr>\n",
       "      <th>234</th>\n",
       "      <td>Western Sahara</td>\n",
       "      <td>Africa</td>\n",
       "      <td>293000</td>\n",
       "    </tr>\n",
       "    <tr>\n",
       "      <th>235</th>\n",
       "      <td>Yemen</td>\n",
       "      <td>Asia</td>\n",
       "      <td>18112000</td>\n",
       "    </tr>\n",
       "    <tr>\n",
       "      <th>236</th>\n",
       "      <td>Yugoslavia</td>\n",
       "      <td>Europe</td>\n",
       "      <td>10640000</td>\n",
       "    </tr>\n",
       "    <tr>\n",
       "      <th>237</th>\n",
       "      <td>Zambia</td>\n",
       "      <td>Africa</td>\n",
       "      <td>9169000</td>\n",
       "    </tr>\n",
       "    <tr>\n",
       "      <th>238</th>\n",
       "      <td>Zimbabwe</td>\n",
       "      <td>Africa</td>\n",
       "      <td>11669000</td>\n",
       "    </tr>\n",
       "  </tbody>\n",
       "</table>\n",
       "<p>239 rows × 3 columns</p>\n",
       "</div>"
      ],
      "text/plain": [
       "               Name Continent  Population\n",
       "0       Afghanistan      Asia    22720000\n",
       "1           Albania    Europe     3401200\n",
       "2           Algeria    Africa    31471000\n",
       "3    American Samoa   Oceania       68000\n",
       "4           Andorra    Europe       78000\n",
       "..              ...       ...         ...\n",
       "234  Western Sahara    Africa      293000\n",
       "235           Yemen      Asia    18112000\n",
       "236      Yugoslavia    Europe    10640000\n",
       "237          Zambia    Africa     9169000\n",
       "238        Zimbabwe    Africa    11669000\n",
       "\n",
       "[239 rows x 3 columns]"
      ]
     },
     "execution_count": 3,
     "metadata": {},
     "output_type": "execute_result"
    }
   ],
   "source": [
    "# Display the country dataframe\n",
    "country"
   ]
  },
  {
   "cell_type": "code",
   "execution_count": 4,
   "id": "9a7a2ae6-7a84-4a11-9a7a-5891ceacf3bb",
   "metadata": {
    "execution": {
     "iopub.execute_input": "2023-07-26T13:25:05.275405Z",
     "iopub.status.busy": "2023-07-26T13:25:05.275325Z",
     "iopub.status.idle": "2023-07-26T13:25:05.277863Z",
     "shell.execute_reply": "2023-07-26T13:25:05.277590Z"
    }
   },
   "outputs": [
    {
     "data": {
      "text/plain": [
       "0         Afghanistan\n",
       "1             Albania\n",
       "2             Algeria\n",
       "3      American Samoa\n",
       "4             Andorra\n",
       "            ...      \n",
       "234    Western Sahara\n",
       "235             Yemen\n",
       "236        Yugoslavia\n",
       "237            Zambia\n",
       "238          Zimbabwe\n",
       "Name: Name, Length: 239, dtype: object"
      ]
     },
     "execution_count": 4,
     "metadata": {},
     "output_type": "execute_result"
    }
   ],
   "source": [
    "# Select the 'Name' column\n",
    "country['Name']"
   ]
  },
  {
   "cell_type": "code",
   "execution_count": 5,
   "id": "25de3a7d-3c86-47b1-8b68-4769b87abf6b",
   "metadata": {
    "execution": {
     "iopub.execute_input": "2023-07-26T13:25:05.279141Z",
     "iopub.status.busy": "2023-07-26T13:25:05.279055Z",
     "iopub.status.idle": "2023-07-26T13:25:05.282481Z",
     "shell.execute_reply": "2023-07-26T13:25:05.282225Z"
    }
   },
   "outputs": [
    {
     "data": {
      "text/html": [
       "<div>\n",
       "<style scoped>\n",
       "    .dataframe tbody tr th:only-of-type {\n",
       "        vertical-align: middle;\n",
       "    }\n",
       "\n",
       "    .dataframe tbody tr th {\n",
       "        vertical-align: top;\n",
       "    }\n",
       "\n",
       "    .dataframe thead th {\n",
       "        text-align: right;\n",
       "    }\n",
       "</style>\n",
       "<table border=\"1\" class=\"dataframe\">\n",
       "  <thead>\n",
       "    <tr style=\"text-align: right;\">\n",
       "      <th></th>\n",
       "      <th>Name</th>\n",
       "    </tr>\n",
       "  </thead>\n",
       "  <tbody>\n",
       "    <tr>\n",
       "      <th>0</th>\n",
       "      <td>Afghanistan</td>\n",
       "    </tr>\n",
       "    <tr>\n",
       "      <th>1</th>\n",
       "      <td>Albania</td>\n",
       "    </tr>\n",
       "    <tr>\n",
       "      <th>2</th>\n",
       "      <td>Algeria</td>\n",
       "    </tr>\n",
       "    <tr>\n",
       "      <th>3</th>\n",
       "      <td>American Samoa</td>\n",
       "    </tr>\n",
       "    <tr>\n",
       "      <th>4</th>\n",
       "      <td>Andorra</td>\n",
       "    </tr>\n",
       "    <tr>\n",
       "      <th>...</th>\n",
       "      <td>...</td>\n",
       "    </tr>\n",
       "    <tr>\n",
       "      <th>234</th>\n",
       "      <td>Western Sahara</td>\n",
       "    </tr>\n",
       "    <tr>\n",
       "      <th>235</th>\n",
       "      <td>Yemen</td>\n",
       "    </tr>\n",
       "    <tr>\n",
       "      <th>236</th>\n",
       "      <td>Yugoslavia</td>\n",
       "    </tr>\n",
       "    <tr>\n",
       "      <th>237</th>\n",
       "      <td>Zambia</td>\n",
       "    </tr>\n",
       "    <tr>\n",
       "      <th>238</th>\n",
       "      <td>Zimbabwe</td>\n",
       "    </tr>\n",
       "  </tbody>\n",
       "</table>\n",
       "<p>239 rows × 1 columns</p>\n",
       "</div>"
      ],
      "text/plain": [
       "               Name\n",
       "0       Afghanistan\n",
       "1           Albania\n",
       "2           Algeria\n",
       "3    American Samoa\n",
       "4           Andorra\n",
       "..              ...\n",
       "234  Western Sahara\n",
       "235           Yemen\n",
       "236      Yugoslavia\n",
       "237          Zambia\n",
       "238        Zimbabwe\n",
       "\n",
       "[239 rows x 1 columns]"
      ]
     },
     "execution_count": 5,
     "metadata": {},
     "output_type": "execute_result"
    }
   ],
   "source": [
    "# Put an extra bracket around the column label to return a dataframe\n",
    "country[['Name']]"
   ]
  },
  {
   "cell_type": "code",
   "execution_count": 6,
   "id": "af341bdd-848e-427a-a0ad-77fb2f6caab6",
   "metadata": {
    "execution": {
     "iopub.execute_input": "2023-07-26T13:25:05.283721Z",
     "iopub.status.busy": "2023-07-26T13:25:05.283639Z",
     "iopub.status.idle": "2023-07-26T13:25:05.287153Z",
     "shell.execute_reply": "2023-07-26T13:25:05.286934Z"
    }
   },
   "outputs": [
    {
     "data": {
      "text/html": [
       "<div>\n",
       "<style scoped>\n",
       "    .dataframe tbody tr th:only-of-type {\n",
       "        vertical-align: middle;\n",
       "    }\n",
       "\n",
       "    .dataframe tbody tr th {\n",
       "        vertical-align: top;\n",
       "    }\n",
       "\n",
       "    .dataframe thead th {\n",
       "        text-align: right;\n",
       "    }\n",
       "</style>\n",
       "<table border=\"1\" class=\"dataframe\">\n",
       "  <thead>\n",
       "    <tr style=\"text-align: right;\">\n",
       "      <th></th>\n",
       "      <th>Name</th>\n",
       "      <th>Continent</th>\n",
       "    </tr>\n",
       "  </thead>\n",
       "  <tbody>\n",
       "    <tr>\n",
       "      <th>0</th>\n",
       "      <td>Afghanistan</td>\n",
       "      <td>Asia</td>\n",
       "    </tr>\n",
       "    <tr>\n",
       "      <th>1</th>\n",
       "      <td>Albania</td>\n",
       "      <td>Europe</td>\n",
       "    </tr>\n",
       "    <tr>\n",
       "      <th>2</th>\n",
       "      <td>Algeria</td>\n",
       "      <td>Africa</td>\n",
       "    </tr>\n",
       "    <tr>\n",
       "      <th>3</th>\n",
       "      <td>American Samoa</td>\n",
       "      <td>Oceania</td>\n",
       "    </tr>\n",
       "    <tr>\n",
       "      <th>4</th>\n",
       "      <td>Andorra</td>\n",
       "      <td>Europe</td>\n",
       "    </tr>\n",
       "    <tr>\n",
       "      <th>...</th>\n",
       "      <td>...</td>\n",
       "      <td>...</td>\n",
       "    </tr>\n",
       "    <tr>\n",
       "      <th>234</th>\n",
       "      <td>Western Sahara</td>\n",
       "      <td>Africa</td>\n",
       "    </tr>\n",
       "    <tr>\n",
       "      <th>235</th>\n",
       "      <td>Yemen</td>\n",
       "      <td>Asia</td>\n",
       "    </tr>\n",
       "    <tr>\n",
       "      <th>236</th>\n",
       "      <td>Yugoslavia</td>\n",
       "      <td>Europe</td>\n",
       "    </tr>\n",
       "    <tr>\n",
       "      <th>237</th>\n",
       "      <td>Zambia</td>\n",
       "      <td>Africa</td>\n",
       "    </tr>\n",
       "    <tr>\n",
       "      <th>238</th>\n",
       "      <td>Zimbabwe</td>\n",
       "      <td>Africa</td>\n",
       "    </tr>\n",
       "  </tbody>\n",
       "</table>\n",
       "<p>239 rows × 2 columns</p>\n",
       "</div>"
      ],
      "text/plain": [
       "               Name Continent\n",
       "0       Afghanistan      Asia\n",
       "1           Albania    Europe\n",
       "2           Algeria    Africa\n",
       "3    American Samoa   Oceania\n",
       "4           Andorra    Europe\n",
       "..              ...       ...\n",
       "234  Western Sahara    Africa\n",
       "235           Yemen      Asia\n",
       "236      Yugoslavia    Europe\n",
       "237          Zambia    Africa\n",
       "238        Zimbabwe    Africa\n",
       "\n",
       "[239 rows x 2 columns]"
      ]
     },
     "execution_count": 6,
     "metadata": {},
     "output_type": "execute_result"
    }
   ],
   "source": [
    "# Select the 'Name' and 'Continent' columns\n",
    "country[['Name', 'Continent']]"
   ]
  },
  {
   "cell_type": "code",
   "execution_count": 7,
   "id": "ee6f721f-5121-415e-8d29-954d1e744d83",
   "metadata": {
    "execution": {
     "iopub.execute_input": "2023-07-26T13:25:05.288409Z",
     "iopub.status.busy": "2023-07-26T13:25:05.288339Z",
     "iopub.status.idle": "2023-07-26T13:25:05.290363Z",
     "shell.execute_reply": "2023-07-26T13:25:05.290125Z"
    }
   },
   "outputs": [
    {
     "data": {
      "text/plain": [
       "'Asia'"
      ]
     },
     "execution_count": 7,
     "metadata": {},
     "output_type": "execute_result"
    }
   ],
   "source": [
    "# Select the element in row 0 and column 1\n",
    "country.iloc[0, 1]"
   ]
  },
  {
   "cell_type": "code",
   "execution_count": 8,
   "id": "db6a068a-0a7e-4634-96cd-f012013a9222",
   "metadata": {
    "execution": {
     "iopub.execute_input": "2023-07-26T13:25:05.291731Z",
     "iopub.status.busy": "2023-07-26T13:25:05.291653Z",
     "iopub.status.idle": "2023-07-26T13:25:05.294101Z",
     "shell.execute_reply": "2023-07-26T13:25:05.293856Z"
    }
   },
   "outputs": [
    {
     "data": {
      "text/plain": [
       "0      Asia\n",
       "1    Europe\n",
       "Name: Continent, dtype: object"
      ]
     },
     "execution_count": 8,
     "metadata": {},
     "output_type": "execute_result"
    }
   ],
   "source": [
    "# Select rows 0 and 1 and column 1\n",
    "country.iloc[0:2, 1]"
   ]
  },
  {
   "cell_type": "code",
   "execution_count": 9,
   "id": "5e4f5037-3193-4add-8a0b-1ff4425c9a54",
   "metadata": {
    "execution": {
     "iopub.execute_input": "2023-07-26T13:25:05.295500Z",
     "iopub.status.busy": "2023-07-26T13:25:05.295410Z",
     "iopub.status.idle": "2023-07-26T13:25:05.298559Z",
     "shell.execute_reply": "2023-07-26T13:25:05.298305Z"
    }
   },
   "outputs": [
    {
     "data": {
      "text/html": [
       "<div>\n",
       "<style scoped>\n",
       "    .dataframe tbody tr th:only-of-type {\n",
       "        vertical-align: middle;\n",
       "    }\n",
       "\n",
       "    .dataframe tbody tr th {\n",
       "        vertical-align: top;\n",
       "    }\n",
       "\n",
       "    .dataframe thead th {\n",
       "        text-align: right;\n",
       "    }\n",
       "</style>\n",
       "<table border=\"1\" class=\"dataframe\">\n",
       "  <thead>\n",
       "    <tr style=\"text-align: right;\">\n",
       "      <th></th>\n",
       "      <th>Continent</th>\n",
       "      <th>Population</th>\n",
       "    </tr>\n",
       "  </thead>\n",
       "  <tbody>\n",
       "    <tr>\n",
       "      <th>0</th>\n",
       "      <td>Asia</td>\n",
       "      <td>22720000</td>\n",
       "    </tr>\n",
       "    <tr>\n",
       "      <th>1</th>\n",
       "      <td>Europe</td>\n",
       "      <td>3401200</td>\n",
       "    </tr>\n",
       "    <tr>\n",
       "      <th>2</th>\n",
       "      <td>Africa</td>\n",
       "      <td>31471000</td>\n",
       "    </tr>\n",
       "    <tr>\n",
       "      <th>3</th>\n",
       "      <td>Oceania</td>\n",
       "      <td>68000</td>\n",
       "    </tr>\n",
       "    <tr>\n",
       "      <th>4</th>\n",
       "      <td>Europe</td>\n",
       "      <td>78000</td>\n",
       "    </tr>\n",
       "    <tr>\n",
       "      <th>5</th>\n",
       "      <td>Africa</td>\n",
       "      <td>12878000</td>\n",
       "    </tr>\n",
       "    <tr>\n",
       "      <th>6</th>\n",
       "      <td>North America</td>\n",
       "      <td>8000</td>\n",
       "    </tr>\n",
       "  </tbody>\n",
       "</table>\n",
       "</div>"
      ],
      "text/plain": [
       "       Continent  Population\n",
       "0           Asia    22720000\n",
       "1         Europe     3401200\n",
       "2         Africa    31471000\n",
       "3        Oceania       68000\n",
       "4         Europe       78000\n",
       "5         Africa    12878000\n",
       "6  North America        8000"
      ]
     },
     "execution_count": 9,
     "metadata": {},
     "output_type": "execute_result"
    }
   ],
   "source": [
    "# Select all rows before row 7 and columns 1 thru 2\n",
    "country.iloc[:7, 1:3]"
   ]
  },
  {
   "cell_type": "code",
   "execution_count": 10,
   "id": "cb528469-f10b-4a70-aa8f-65d203e71dd3",
   "metadata": {
    "execution": {
     "iopub.execute_input": "2023-07-26T13:25:05.299953Z",
     "iopub.status.busy": "2023-07-26T13:25:05.299854Z",
     "iopub.status.idle": "2023-07-26T13:25:05.303021Z",
     "shell.execute_reply": "2023-07-26T13:25:05.302787Z"
    }
   },
   "outputs": [
    {
     "data": {
      "text/html": [
       "<div>\n",
       "<style scoped>\n",
       "    .dataframe tbody tr th:only-of-type {\n",
       "        vertical-align: middle;\n",
       "    }\n",
       "\n",
       "    .dataframe tbody tr th {\n",
       "        vertical-align: top;\n",
       "    }\n",
       "\n",
       "    .dataframe thead th {\n",
       "        text-align: right;\n",
       "    }\n",
       "</style>\n",
       "<table border=\"1\" class=\"dataframe\">\n",
       "  <thead>\n",
       "    <tr style=\"text-align: right;\">\n",
       "      <th></th>\n",
       "      <th>Continent</th>\n",
       "      <th>Population</th>\n",
       "    </tr>\n",
       "  </thead>\n",
       "  <tbody>\n",
       "    <tr>\n",
       "      <th>10</th>\n",
       "      <td>Asia</td>\n",
       "      <td>3520000</td>\n",
       "    </tr>\n",
       "    <tr>\n",
       "      <th>11</th>\n",
       "      <td>North America</td>\n",
       "      <td>103000</td>\n",
       "    </tr>\n",
       "    <tr>\n",
       "      <th>12</th>\n",
       "      <td>Oceania</td>\n",
       "      <td>18886000</td>\n",
       "    </tr>\n",
       "    <tr>\n",
       "      <th>13</th>\n",
       "      <td>Europe</td>\n",
       "      <td>8091800</td>\n",
       "    </tr>\n",
       "    <tr>\n",
       "      <th>14</th>\n",
       "      <td>Asia</td>\n",
       "      <td>7734000</td>\n",
       "    </tr>\n",
       "    <tr>\n",
       "      <th>15</th>\n",
       "      <td>North America</td>\n",
       "      <td>307000</td>\n",
       "    </tr>\n",
       "    <tr>\n",
       "      <th>16</th>\n",
       "      <td>Asia</td>\n",
       "      <td>617000</td>\n",
       "    </tr>\n",
       "    <tr>\n",
       "      <th>17</th>\n",
       "      <td>Asia</td>\n",
       "      <td>129155000</td>\n",
       "    </tr>\n",
       "    <tr>\n",
       "      <th>18</th>\n",
       "      <td>North America</td>\n",
       "      <td>270000</td>\n",
       "    </tr>\n",
       "    <tr>\n",
       "      <th>19</th>\n",
       "      <td>Europe</td>\n",
       "      <td>10236000</td>\n",
       "    </tr>\n",
       "    <tr>\n",
       "      <th>20</th>\n",
       "      <td>Europe</td>\n",
       "      <td>10239000</td>\n",
       "    </tr>\n",
       "  </tbody>\n",
       "</table>\n",
       "</div>"
      ],
      "text/plain": [
       "        Continent  Population\n",
       "10           Asia     3520000\n",
       "11  North America      103000\n",
       "12        Oceania    18886000\n",
       "13         Europe     8091800\n",
       "14           Asia     7734000\n",
       "15  North America      307000\n",
       "16           Asia      617000\n",
       "17           Asia   129155000\n",
       "18  North America      270000\n",
       "19         Europe    10236000\n",
       "20         Europe    10239000"
      ]
     },
     "execution_count": 10,
     "metadata": {},
     "output_type": "execute_result"
    }
   ],
   "source": [
    "# Select rows 10 thru 20 and all columns from column 1 onwards\n",
    "country.iloc[10:21, 1:]"
   ]
  },
  {
   "cell_type": "code",
   "execution_count": 11,
   "id": "9e3fa911-eb9e-4beb-a05b-2e2995c84fcc",
   "metadata": {
    "execution": {
     "iopub.execute_input": "2023-07-26T13:25:05.304431Z",
     "iopub.status.busy": "2023-07-26T13:25:05.304328Z",
     "iopub.status.idle": "2023-07-26T13:25:05.307598Z",
     "shell.execute_reply": "2023-07-26T13:25:05.307349Z"
    }
   },
   "outputs": [
    {
     "data": {
      "text/html": [
       "<div>\n",
       "<style scoped>\n",
       "    .dataframe tbody tr th:only-of-type {\n",
       "        vertical-align: middle;\n",
       "    }\n",
       "\n",
       "    .dataframe tbody tr th {\n",
       "        vertical-align: top;\n",
       "    }\n",
       "\n",
       "    .dataframe thead th {\n",
       "        text-align: right;\n",
       "    }\n",
       "</style>\n",
       "<table border=\"1\" class=\"dataframe\">\n",
       "  <thead>\n",
       "    <tr style=\"text-align: right;\">\n",
       "      <th></th>\n",
       "      <th>Continent</th>\n",
       "      <th>Population</th>\n",
       "    </tr>\n",
       "  </thead>\n",
       "  <tbody>\n",
       "    <tr>\n",
       "      <th>10</th>\n",
       "      <td>Asia</td>\n",
       "      <td>3520000</td>\n",
       "    </tr>\n",
       "    <tr>\n",
       "      <th>11</th>\n",
       "      <td>North America</td>\n",
       "      <td>103000</td>\n",
       "    </tr>\n",
       "    <tr>\n",
       "      <th>12</th>\n",
       "      <td>Oceania</td>\n",
       "      <td>18886000</td>\n",
       "    </tr>\n",
       "    <tr>\n",
       "      <th>13</th>\n",
       "      <td>Europe</td>\n",
       "      <td>8091800</td>\n",
       "    </tr>\n",
       "    <tr>\n",
       "      <th>14</th>\n",
       "      <td>Asia</td>\n",
       "      <td>7734000</td>\n",
       "    </tr>\n",
       "    <tr>\n",
       "      <th>15</th>\n",
       "      <td>North America</td>\n",
       "      <td>307000</td>\n",
       "    </tr>\n",
       "    <tr>\n",
       "      <th>16</th>\n",
       "      <td>Asia</td>\n",
       "      <td>617000</td>\n",
       "    </tr>\n",
       "    <tr>\n",
       "      <th>17</th>\n",
       "      <td>Asia</td>\n",
       "      <td>129155000</td>\n",
       "    </tr>\n",
       "    <tr>\n",
       "      <th>18</th>\n",
       "      <td>North America</td>\n",
       "      <td>270000</td>\n",
       "    </tr>\n",
       "    <tr>\n",
       "      <th>19</th>\n",
       "      <td>Europe</td>\n",
       "      <td>10236000</td>\n",
       "    </tr>\n",
       "    <tr>\n",
       "      <th>20</th>\n",
       "      <td>Europe</td>\n",
       "      <td>10239000</td>\n",
       "    </tr>\n",
       "  </tbody>\n",
       "</table>\n",
       "</div>"
      ],
      "text/plain": [
       "        Continent  Population\n",
       "10           Asia     3520000\n",
       "11  North America      103000\n",
       "12        Oceania    18886000\n",
       "13         Europe     8091800\n",
       "14           Asia     7734000\n",
       "15  North America      307000\n",
       "16           Asia      617000\n",
       "17           Asia   129155000\n",
       "18  North America      270000\n",
       "19         Europe    10236000\n",
       "20         Europe    10239000"
      ]
     },
     "execution_count": 11,
     "metadata": {},
     "output_type": "execute_result"
    }
   ],
   "source": [
    "# Select rows 10 thru 20 and the Continent and Population columns\n",
    "country.loc[10:20, ['Continent', 'Population']]"
   ]
  }
 ],
 "metadata": {
  "kernelspec": {
   "display_name": "Python 3 (ipykernel)",
   "language": "python",
   "name": "python3"
  },
  "language_info": {
   "codemirror_mode": {
    "name": "ipython",
    "version": 3
   },
   "file_extension": ".py",
   "mimetype": "text/x-python",
   "name": "python",
   "nbconvert_exporter": "python",
   "pygments_lexer": "ipython3",
   "version": "3.10.12"
  },
  "widgets": {
   "application/vnd.jupyter.widget-state+json": {
    "state": {},
    "version_major": 2,
    "version_minor": 0
   }
  }
 },
 "nbformat": 4,
 "nbformat_minor": 5
}
