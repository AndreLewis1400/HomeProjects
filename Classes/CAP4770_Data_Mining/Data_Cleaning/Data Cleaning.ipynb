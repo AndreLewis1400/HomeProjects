{
  "nbformat": 4,
  "nbformat_minor": 0,
  "metadata": {
    "colab": {
      "provenance": []
    },
    "kernelspec": {
      "name": "python3",
      "display_name": "Python 3"
    },
    "language_info": {
      "name": "python"
    }
  },
  "cells": [
    {
      "cell_type": "code",
      "execution_count": 1,
      "metadata": {
        "colab": {
          "base_uri": "https://localhost:8080/",
          "height": 69
        },
        "id": "vTW3jFFvcdzd",
        "outputId": "adcc14ba-fb4c-4012-f18a-b5d605724db0"
      },
      "outputs": [
        {
          "output_type": "display_data",
          "data": {
            "text/plain": [
              "<IPython.core.display.HTML object>"
            ],
            "text/html": [
              "\n",
              "     <input type=\"file\" id=\"files-2de0ea43-5727-4d0a-a67a-de3f747fee50\" name=\"files[]\" multiple disabled\n",
              "        style=\"border:none\" />\n",
              "     <output id=\"result-2de0ea43-5727-4d0a-a67a-de3f747fee50\">\n",
              "      Upload widget is only available when the cell has been executed in the\n",
              "      current browser session. Please rerun this cell to enable.\n",
              "      </output>\n",
              "      <script>// Copyright 2017 Google LLC\n",
              "//\n",
              "// Licensed under the Apache License, Version 2.0 (the \"License\");\n",
              "// you may not use this file except in compliance with the License.\n",
              "// You may obtain a copy of the License at\n",
              "//\n",
              "//      http://www.apache.org/licenses/LICENSE-2.0\n",
              "//\n",
              "// Unless required by applicable law or agreed to in writing, software\n",
              "// distributed under the License is distributed on an \"AS IS\" BASIS,\n",
              "// WITHOUT WARRANTIES OR CONDITIONS OF ANY KIND, either express or implied.\n",
              "// See the License for the specific language governing permissions and\n",
              "// limitations under the License.\n",
              "\n",
              "/**\n",
              " * @fileoverview Helpers for google.colab Python module.\n",
              " */\n",
              "(function(scope) {\n",
              "function span(text, styleAttributes = {}) {\n",
              "  const element = document.createElement('span');\n",
              "  element.textContent = text;\n",
              "  for (const key of Object.keys(styleAttributes)) {\n",
              "    element.style[key] = styleAttributes[key];\n",
              "  }\n",
              "  return element;\n",
              "}\n",
              "\n",
              "// Max number of bytes which will be uploaded at a time.\n",
              "const MAX_PAYLOAD_SIZE = 100 * 1024;\n",
              "\n",
              "function _uploadFiles(inputId, outputId) {\n",
              "  const steps = uploadFilesStep(inputId, outputId);\n",
              "  const outputElement = document.getElementById(outputId);\n",
              "  // Cache steps on the outputElement to make it available for the next call\n",
              "  // to uploadFilesContinue from Python.\n",
              "  outputElement.steps = steps;\n",
              "\n",
              "  return _uploadFilesContinue(outputId);\n",
              "}\n",
              "\n",
              "// This is roughly an async generator (not supported in the browser yet),\n",
              "// where there are multiple asynchronous steps and the Python side is going\n",
              "// to poll for completion of each step.\n",
              "// This uses a Promise to block the python side on completion of each step,\n",
              "// then passes the result of the previous step as the input to the next step.\n",
              "function _uploadFilesContinue(outputId) {\n",
              "  const outputElement = document.getElementById(outputId);\n",
              "  const steps = outputElement.steps;\n",
              "\n",
              "  const next = steps.next(outputElement.lastPromiseValue);\n",
              "  return Promise.resolve(next.value.promise).then((value) => {\n",
              "    // Cache the last promise value to make it available to the next\n",
              "    // step of the generator.\n",
              "    outputElement.lastPromiseValue = value;\n",
              "    return next.value.response;\n",
              "  });\n",
              "}\n",
              "\n",
              "/**\n",
              " * Generator function which is called between each async step of the upload\n",
              " * process.\n",
              " * @param {string} inputId Element ID of the input file picker element.\n",
              " * @param {string} outputId Element ID of the output display.\n",
              " * @return {!Iterable<!Object>} Iterable of next steps.\n",
              " */\n",
              "function* uploadFilesStep(inputId, outputId) {\n",
              "  const inputElement = document.getElementById(inputId);\n",
              "  inputElement.disabled = false;\n",
              "\n",
              "  const outputElement = document.getElementById(outputId);\n",
              "  outputElement.innerHTML = '';\n",
              "\n",
              "  const pickedPromise = new Promise((resolve) => {\n",
              "    inputElement.addEventListener('change', (e) => {\n",
              "      resolve(e.target.files);\n",
              "    });\n",
              "  });\n",
              "\n",
              "  const cancel = document.createElement('button');\n",
              "  inputElement.parentElement.appendChild(cancel);\n",
              "  cancel.textContent = 'Cancel upload';\n",
              "  const cancelPromise = new Promise((resolve) => {\n",
              "    cancel.onclick = () => {\n",
              "      resolve(null);\n",
              "    };\n",
              "  });\n",
              "\n",
              "  // Wait for the user to pick the files.\n",
              "  const files = yield {\n",
              "    promise: Promise.race([pickedPromise, cancelPromise]),\n",
              "    response: {\n",
              "      action: 'starting',\n",
              "    }\n",
              "  };\n",
              "\n",
              "  cancel.remove();\n",
              "\n",
              "  // Disable the input element since further picks are not allowed.\n",
              "  inputElement.disabled = true;\n",
              "\n",
              "  if (!files) {\n",
              "    return {\n",
              "      response: {\n",
              "        action: 'complete',\n",
              "      }\n",
              "    };\n",
              "  }\n",
              "\n",
              "  for (const file of files) {\n",
              "    const li = document.createElement('li');\n",
              "    li.append(span(file.name, {fontWeight: 'bold'}));\n",
              "    li.append(span(\n",
              "        `(${file.type || 'n/a'}) - ${file.size} bytes, ` +\n",
              "        `last modified: ${\n",
              "            file.lastModifiedDate ? file.lastModifiedDate.toLocaleDateString() :\n",
              "                                    'n/a'} - `));\n",
              "    const percent = span('0% done');\n",
              "    li.appendChild(percent);\n",
              "\n",
              "    outputElement.appendChild(li);\n",
              "\n",
              "    const fileDataPromise = new Promise((resolve) => {\n",
              "      const reader = new FileReader();\n",
              "      reader.onload = (e) => {\n",
              "        resolve(e.target.result);\n",
              "      };\n",
              "      reader.readAsArrayBuffer(file);\n",
              "    });\n",
              "    // Wait for the data to be ready.\n",
              "    let fileData = yield {\n",
              "      promise: fileDataPromise,\n",
              "      response: {\n",
              "        action: 'continue',\n",
              "      }\n",
              "    };\n",
              "\n",
              "    // Use a chunked sending to avoid message size limits. See b/62115660.\n",
              "    let position = 0;\n",
              "    do {\n",
              "      const length = Math.min(fileData.byteLength - position, MAX_PAYLOAD_SIZE);\n",
              "      const chunk = new Uint8Array(fileData, position, length);\n",
              "      position += length;\n",
              "\n",
              "      const base64 = btoa(String.fromCharCode.apply(null, chunk));\n",
              "      yield {\n",
              "        response: {\n",
              "          action: 'append',\n",
              "          file: file.name,\n",
              "          data: base64,\n",
              "        },\n",
              "      };\n",
              "\n",
              "      let percentDone = fileData.byteLength === 0 ?\n",
              "          100 :\n",
              "          Math.round((position / fileData.byteLength) * 100);\n",
              "      percent.textContent = `${percentDone}% done`;\n",
              "\n",
              "    } while (position < fileData.byteLength);\n",
              "  }\n",
              "\n",
              "  // All done.\n",
              "  yield {\n",
              "    response: {\n",
              "      action: 'complete',\n",
              "    }\n",
              "  };\n",
              "}\n",
              "\n",
              "scope.google = scope.google || {};\n",
              "scope.google.colab = scope.google.colab || {};\n",
              "scope.google.colab._files = {\n",
              "  _uploadFiles,\n",
              "  _uploadFilesContinue,\n",
              "};\n",
              "})(self);\n",
              "</script> "
            ]
          },
          "metadata": {}
        },
        {
          "output_type": "stream",
          "name": "stdout",
          "text": [
            "Saving dirty_cafe_sales.csv to dirty_cafe_sales (1).csv\n"
          ]
        }
      ],
      "source": [
        "from google.colab import files\n",
        "uploaded = files.upload() # upload the zipfile here"
      ]
    },
    {
      "cell_type": "code",
      "source": [
        "import pandas as pd\n",
        "# Load the CSC file\n",
        "df = pd.read_csv('dirty_cafe_sales.csv')\n",
        "#preview the data\n",
        "print(df.head())"
      ],
      "metadata": {
        "colab": {
          "base_uri": "https://localhost:8080/"
        },
        "id": "BhBUvoQBc8id",
        "outputId": "3c85260c-3ed6-41c9-b053-fdffa9868c4a"
      },
      "execution_count": 5,
      "outputs": [
        {
          "output_type": "stream",
          "name": "stdout",
          "text": [
            "  Transaction ID    Item Quantity Price Per Unit Total Spent  Payment Method  \\\n",
            "0    TXN_1961373  Coffee        2            2.0         4.0     Credit Card   \n",
            "1    TXN_4977031    Cake        4            3.0        12.0            Cash   \n",
            "2    TXN_4271903  Cookie        4            1.0       ERROR     Credit Card   \n",
            "3    TXN_7034554   Salad        2            5.0        10.0         UNKNOWN   \n",
            "4    TXN_3160411  Coffee        2            2.0         4.0  Digital Wallet   \n",
            "\n",
            "   Location Transaction Date  \n",
            "0  Takeaway       2023-09-08  \n",
            "1  In-store       2023-05-16  \n",
            "2  In-store       2023-07-19  \n",
            "3   UNKNOWN       2023-04-27  \n",
            "4  In-store       2023-06-11  \n"
          ]
        }
      ]
    },
    {
      "cell_type": "code",
      "source": [
        "# Identify missing values by column\n",
        "missing_data = df.isnull().sum()\n",
        "print(\"Missing values per column:\\n\", missing_data)\n",
        "#How many rows are affected?\n",
        "missing_rows = df.isnull().any(axis=1).sum()\n",
        "print(\"\\nTotal rows with missing values:\", missing_rows)"
      ],
      "metadata": {
        "colab": {
          "base_uri": "https://localhost:8080/"
        },
        "id": "CjrHGvlietLi",
        "outputId": "a2e812ca-1147-47f1-ae5e-c3609e9aa66c"
      },
      "execution_count": 7,
      "outputs": [
        {
          "output_type": "stream",
          "name": "stdout",
          "text": [
            "Missing values per column:\n",
            " Transaction ID         0\n",
            "Item                 333\n",
            "Quantity             138\n",
            "Price Per Unit       179\n",
            "Total Spent          173\n",
            "Payment Method      2579\n",
            "Location            3265\n",
            "Transaction Date     159\n",
            "dtype: int64\n",
            "\n",
            "Total rows with missing values: 5450\n"
          ]
        }
      ]
    },
    {
      "cell_type": "code",
      "source": [
        "# Example: Drop rows with any missing values\n",
        "df_dropna = df.dropna()\n",
        "# Example: Fill missing numerical values with mean\n",
        "df_fillna = df.fillna(df.mean(numeric_only=True))\n",
        "# Show counts after handling missing data\n",
        "print(\"\\n Rows after dropping missing values:\", len(df_dropna))\n",
        "print(\"\\n Rows after filling missing values:\", len(df_fillna))"
      ],
      "metadata": {
        "colab": {
          "base_uri": "https://localhost:8080/"
        },
        "id": "9aoqOYk1iOm9",
        "outputId": "cb342b5a-6e7d-40ad-a0c2-e7b296de1ebc"
      },
      "execution_count": 8,
      "outputs": [
        {
          "output_type": "stream",
          "name": "stdout",
          "text": [
            "\n",
            " Rows after dropping missing values: 4550\n",
            "\n",
            " Rows after filling missing values: 10000\n"
          ]
        }
      ]
    },
    {
      "cell_type": "code",
      "source": [
        "print(df.columns)"
      ],
      "metadata": {
        "colab": {
          "base_uri": "https://localhost:8080/"
        },
        "id": "G7mhVLsOjOU5",
        "outputId": "89f8ccac-c2b8-4c3e-fde6-82546c43f0c3"
      },
      "execution_count": 10,
      "outputs": [
        {
          "output_type": "stream",
          "name": "stdout",
          "text": [
            "Index(['Transaction ID', 'Item', 'Quantity', 'Price Per Unit', 'Total Spent',\n",
            "       'Payment Method', 'Location', 'Transaction Date'],\n",
            "      dtype='object')\n"
          ]
        }
      ]
    },
    {
      "cell_type": "code",
      "source": [
        "# Standardize the Transaction Date column\n",
        "df['Transaction Date'] = pd.to_datetime(df['Transaction Date'], errors = 'coerce')\n",
        "# Standardize the item column\n",
        "df['Item'] = df['Item'].str.strip().str.title()\n",
        "# Show before and after of cleaned columns\n",
        "print(\"\\n Standardized columns:\\n\", df[['Transaction Date', 'Item']].head())"
      ],
      "metadata": {
        "colab": {
          "base_uri": "https://localhost:8080/"
        },
        "id": "3FfqW98dl-Yx",
        "outputId": "29682575-defb-4b65-aeac-34d3d535bca4"
      },
      "execution_count": 18,
      "outputs": [
        {
          "output_type": "stream",
          "name": "stdout",
          "text": [
            "\n",
            " Standardized columns:\n",
            "   Transaction Date    Item\n",
            "0       2023-09-08  Coffee\n",
            "1       2023-05-16    Cake\n",
            "2       2023-07-19  Cookie\n",
            "3       2023-04-27   Salad\n",
            "4       2023-06-11  Coffee\n"
          ]
        }
      ]
    },
    {
      "cell_type": "code",
      "source": [
        "# Find duplicates\n",
        "duplicates = df.duplicated().sum()\n",
        "print(\"\\nNumber of duplicate rows:\", duplicates)\n",
        "\n",
        "# Remove duplicates\n",
        "df_no_duplicates = df.drop_duplicates()\n",
        "\n",
        "# Show before-and-after\n",
        "print(\"\\nRows after removing duplicates:\", len(df_no_duplicates))\n"
      ],
      "metadata": {
        "colab": {
          "base_uri": "https://localhost:8080/"
        },
        "id": "3V9lfZEnphFm",
        "outputId": "0742338b-53e1-48d6-cad0-8ccac25cd508"
      },
      "execution_count": 19,
      "outputs": [
        {
          "output_type": "stream",
          "name": "stdout",
          "text": [
            "\n",
            "Number of duplicate rows: 0\n",
            "\n",
            "Rows after removing duplicates: 10000\n"
          ]
        }
      ]
    },
    {
      "cell_type": "code",
      "source": [
        "print(df.dtypes)"
      ],
      "metadata": {
        "colab": {
          "base_uri": "https://localhost:8080/"
        },
        "id": "VlzU4EY8ptW1",
        "outputId": "5cd51c56-0ff3-436f-a18a-4ca7687679d9"
      },
      "execution_count": 21,
      "outputs": [
        {
          "output_type": "stream",
          "name": "stdout",
          "text": [
            "Transaction ID              object\n",
            "Item                        object\n",
            "Quantity                    object\n",
            "Price Per Unit              object\n",
            "Total Spent                 object\n",
            "Payment Method              object\n",
            "Location                    object\n",
            "Transaction Date    datetime64[ns]\n",
            "dtype: object\n"
          ]
        }
      ]
    },
    {
      "cell_type": "code",
      "source": [
        "# Convert to numeric\n",
        "df['Quantity'] = pd.to_numeric(df['Quantity'], errors='coerce')\n",
        "df['Price Per Unit'] = pd.to_numeric(df['Price Per Unit'], errors='coerce')\n",
        "df['Total Spent'] = pd.to_numeric(df['Total Spent'], errors='coerce')\n",
        "\n",
        "# Confirm the new data types\n",
        "print(df.dtypes)\n"
      ],
      "metadata": {
        "colab": {
          "base_uri": "https://localhost:8080/"
        },
        "id": "EGbl4jFdqV6c",
        "outputId": "994d82cb-df52-40d5-f858-a64e8ff00d57"
      },
      "execution_count": 22,
      "outputs": [
        {
          "output_type": "stream",
          "name": "stdout",
          "text": [
            "Transaction ID              object\n",
            "Item                        object\n",
            "Quantity                   float64\n",
            "Price Per Unit             float64\n",
            "Total Spent                float64\n",
            "Payment Method              object\n",
            "Location                    object\n",
            "Transaction Date    datetime64[ns]\n",
            "dtype: object\n"
          ]
        }
      ]
    },
    {
      "cell_type": "code",
      "source": [
        "import matplotlib.pyplot as plt\n",
        "\n",
        "# Reselect numeric columns\n",
        "df_numeric = df.select_dtypes(include=['float64', 'int64'])\n",
        "\n",
        "# Plot boxplots\n",
        "df_numeric.plot(kind='box', subplots=True, figsize=(15, 10))\n",
        "plt.show()\n",
        "\n",
        "# Identify potential outliers using IQR\n",
        "Q1 = df_numeric.quantile(0.25)\n",
        "Q3 = df_numeric.quantile(0.75)\n",
        "IQR = Q3 - Q1\n",
        "\n",
        "outliers = ((df_numeric < (Q1 - 1.5 * IQR)) | (df_numeric > (Q3 + 1.5 * IQR))).sum()\n",
        "print(\"\\nPotential outliers per column:\\n\", outliers)\n"
      ],
      "metadata": {
        "colab": {
          "base_uri": "https://localhost:8080/",
          "height": 540
        },
        "id": "0lUQ6y7Jqd16",
        "outputId": "ec5807b1-a2a8-43f5-acbb-aca4d703aac6"
      },
      "execution_count": 23,
      "outputs": [
        {
          "output_type": "display_data",
          "data": {
            "text/plain": [
              "<Figure size 1500x1000 with 3 Axes>"
            ],
            "image/png": "[encoded data removed]"
          },
          "metadata": {}
        },
        {
          "output_type": "stream",
          "name": "stdout",
          "text": [
            "\n",
            "Potential outliers per column:\n",
            " Quantity            0\n",
            "Price Per Unit      0\n",
            "Total Spent       259\n",
            "dtype: int64\n"
          ]
        }
      ]
    },
    {
      "cell_type": "markdown",
      "source": [
        "## Final Reflection\n",
        "\n",
        "**Missing Values:**  \n",
        "I found missing values in the `Quantity` and `Price Per Unit` columns. I chose to fill them with the column median because it's robust to outliers.\n",
        "\n",
        "**Inconsistent Data Formats:**  \n",
        "I standardized the `Transaction Date` column by converting it to datetime format, and the `Item` column by stripping whitespace and using title case.\n",
        "\n",
        "**Duplicates:**  \n",
        "I detected and removed duplicates using the `.duplicated()` method. This ensured that each transaction is unique.\n",
        "\n",
        "**Outliers:**  \n",
        "I used boxplots and the IQR method to identify outliers. I chose to keep them because they may represent genuine high-value transactions.\n",
        "\n",
        "**Challenges:**  \n",
        "The main challenge was converting numeric columns from object types to floats/integers. After using `pd.to_numeric()`, this was resolved.\n",
        "\n",
        "**Next Steps:**  \n",
        "For a real-world application, I would visualize sales trends and explore seasonal patterns!\n",
        "\n"
      ],
      "metadata": {
        "id": "MfPuUT3VsuCa"
      }
    }
  ]
}